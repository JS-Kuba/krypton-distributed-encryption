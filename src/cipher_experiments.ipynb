{
 "cells": [
  {
   "cell_type": "code",
   "execution_count": 1,
   "metadata": {},
   "outputs": [],
   "source": [
    "from Crypto.Cipher import ARC4"
   ]
  },
  {
   "cell_type": "code",
   "execution_count": 2,
   "metadata": {},
   "outputs": [],
   "source": [
    "\n",
    "# Read the plaintext from the file\n",
    "with open('../data/crime-and-punishment.txt', 'r') as f:\n",
    "    plaintext = f.read()\n",
    "\n",
    "# Encrypt the text using RC4\n",
    "key = b'my secret key' \n",
    "cipher = ARC4.new(key)\n",
    "\n",
    "ciphertext = cipher.encrypt(plaintext)\n",
    "\n",
    "# Write the encrypted text to a file\n",
    "with open('../data/crime-and-punishment-encrypted.txt', 'wb') as f:\n",
    "    f.write(ciphertext)\n",
    "\n",
    "# Read the encrypted text from the file\n",
    "with open('../data/crime-and-punishment-encrypted.txt', 'rb') as f:\n",
    "    encrypted_text = f.read()\n",
    "\n",
    "# Create a new cipher instance with the same key and decrypt the text\n",
    "cipher = ARC4.new(key)\n",
    "decrypted_text = cipher.decrypt(encrypted_text)\n",
    "\n",
    "# Print the decrypted text\n",
    "#print(decrypted_text.decode('utf-8'))\n"
   ]
  },
  {
   "cell_type": "code",
   "execution_count": null,
   "metadata": {},
   "outputs": [],
   "source": []
  },
  {
   "cell_type": "code",
   "execution_count": null,
   "metadata": {},
   "outputs": [],
   "source": [
    "\n"
   ]
  }
 ],
 "metadata": {
  "kernelspec": {
   "display_name": "cpd",
   "language": "python",
   "name": "python3"
  },
  "language_info": {
   "codemirror_mode": {
    "name": "ipython",
    "version": 3
   },
   "file_extension": ".py",
   "mimetype": "text/x-python",
   "name": "python",
   "nbconvert_exporter": "python",
   "pygments_lexer": "ipython3",
   "version": "3.9.12"
  },
  "orig_nbformat": 4
 },
 "nbformat": 4,
 "nbformat_minor": 2
}
